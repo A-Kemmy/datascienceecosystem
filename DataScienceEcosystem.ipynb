{
 "cells": [
  {
   "cell_type": "code",
   "execution_count": 22,
   "id": "208a1597-79ab-4bbf-aeed-7ea3c8ef8f01",
   "metadata": {},
   "outputs": [
    {
     "ename": "SyntaxError",
     "evalue": "invalid syntax (3783947316.py, line 44)",
     "output_type": "error",
     "traceback": [
      "\u001b[0;36m  Cell \u001b[0;32mIn[22], line 44\u001b[0;36m\u001b[0m\n\u001b[0;31m    Richardson Akuebionwu\u001b[0m\n\u001b[0m               ^\u001b[0m\n\u001b[0;31mSyntaxError\u001b[0m\u001b[0;31m:\u001b[0m invalid syntax\n"
     ]
    }
   ],
   "source": [
    "# Data Science Tools and Ecosystem\n",
    "\n",
    "## Introduction\n",
    "# In this notebook, Data Science Tools and Ecosystem are summarized.\n",
    "\n",
    "#Objectives\n",
    "#-List popular languages for Data Science\n",
    "#-List popular libraries in Data Science\n",
    "#-Perform arithmetics\n",
    "\n",
    "## Some of the popular languages that Data Scientists use are:\n",
    "#1. Python\n",
    "#2. R\n",
    "#3. SQL\n",
    "#4. Julia\n",
    "#5. Java\n",
    "\n",
    "## Some of the commonly used libraries used by Data Scientists include:\n",
    "#1. NumPy\n",
    "#2. Pandas\n",
    "#3. Matplotlib\n",
    "#4. Seaborn\n",
    "#5.  Keras\n",
    "\n",
    "## Data Science Tools\n",
    "#Data Science Tools\n",
    "#Tableau\n",
    "#PowerBI\n",
    "#RStudio\n",
    "\n",
    "## Arithmetic Expression Examples\n",
    "#Below are a few examples of evaluating arithmetic expressions in Python.\n",
    "\n",
    "#This is a simple arithmetic expression to multiply and then add integers.\n",
    "result = ( 3* 4) + 5\n",
    "result\n",
    "\n",
    "#This will convert 200 minutes to hours by diving by 60.\n",
    "#minutes = 200\n",
    "#hours = minutes / 60\n",
    "#hours\n",
    "\n",
    "#Author\n",
    "Richardson Akuebionwu"
   ]
  },
  {
   "cell_type": "code",
   "execution_count": null,
   "id": "5a352ece-cd94-492d-a29c-fa11aef0fc3b",
   "metadata": {},
   "outputs": [],
   "source": []
  }
 ],
 "metadata": {
  "kernelspec": {
   "display_name": "anaconda-panel-2023.05-py310",
   "language": "python",
   "name": "conda-env-anaconda-panel-2023.05-py310-py"
  },
  "language_info": {
   "codemirror_mode": {
    "name": "ipython",
    "version": 3
   },
   "file_extension": ".py",
   "mimetype": "text/x-python",
   "name": "python",
   "nbconvert_exporter": "python",
   "pygments_lexer": "ipython3",
   "version": "3.11.5"
  }
 },
 "nbformat": 4,
 "nbformat_minor": 5
}
